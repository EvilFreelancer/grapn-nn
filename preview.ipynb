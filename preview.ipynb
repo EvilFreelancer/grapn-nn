{
 "cells": [
  {
   "cell_type": "code",
   "execution_count": 3,
   "id": "initial_id",
   "metadata": {
    "collapsed": true,
    "ExecuteTime": {
     "end_time": "2023-09-25T22:29:16.767850448Z",
     "start_time": "2023-09-25T22:28:36.842409598Z"
    }
   },
   "outputs": [],
   "source": [
    "import json\n",
    "import networkx as nx\n",
    "import matplotlib.pyplot as plt\n",
    "import numpy as np\n",
    "\n",
    "\n",
    "def read_jsonl(filename):\n",
    "    \"\"\"Read data from a jsonl file.\"\"\"\n",
    "    data = []\n",
    "    with open(filename, 'r') as f:\n",
    "        for line in f:\n",
    "            data.append(json.loads(line))\n",
    "    return data\n",
    "\n",
    "\n",
    "def draw_graph(data, output_filename):\n",
    "    \"\"\"Draw a graph with improved positioning for isolated nodes.\"\"\"\n",
    "    G = nx.Graph()\n",
    "\n",
    "    # Add nodes and edges to the graph\n",
    "    for node in data[\"nodes\"]:\n",
    "        G.add_node(node[\"id\"])\n",
    "    for link in data[\"links\"]:\n",
    "        G.add_edge(link[\"source\"], link[\"target\"], weight=link[\"weight\"])\n",
    "\n",
    "    # Identify isolated nodes\n",
    "    isolated_nodes = list(nx.isolates(G))\n",
    "    connected_nodes = list(set(G.nodes()) - set(isolated_nodes))\n",
    "\n",
    "    # Use spring layout for the main graph and then adjust for isolated nodes\n",
    "    pos = nx.spring_layout(G)\n",
    "\n",
    "    # If there are isolated nodes, position them in a circle around the graph\n",
    "    if isolated_nodes:\n",
    "        border_positions = {}\n",
    "        border_angle = 2 * 3.141592653589793 / len(isolated_nodes)\n",
    "        radius = 1.2  # To place isolated nodes outside the main cluster\n",
    "        for index, node in enumerate(isolated_nodes):\n",
    "            angle = index * border_angle\n",
    "            border_positions[node] = (radius * np.cos(angle), radius * np.sin(angle))\n",
    "        pos.update(border_positions)\n",
    "\n",
    "    # Draw the graph\n",
    "    plt.figure(figsize=(10, 10))\n",
    "    nx.draw_networkx_nodes(G, pos, nodelist=connected_nodes, node_size=500)\n",
    "    nx.draw_networkx_nodes(G, pos, nodelist=isolated_nodes, node_size=500, node_color='lightblue', node_shape='s')\n",
    "    nx.draw_networkx_labels(G, pos, font_size=10)\n",
    "    edge_widths = [d[\"weight\"] / 10 for _, _, d in G.edges(data=True)]\n",
    "    edge_labels = {(u, v): round(d[\"weight\"], 1) for u, v, d in G.edges(data=True)}\n",
    "    nx.draw_networkx_edges(G, pos, width=edge_widths, alpha=0.6)\n",
    "    nx.draw_networkx_edge_labels(G, pos, edge_labels=edge_labels, font_size=6)\n",
    "\n",
    "    plt.axis(\"off\")\n",
    "    plt.tight_layout()\n",
    "    plt.savefig(output_filename, format=\"PNG\", dpi=300)\n",
    "    plt.close()\n",
    "\n",
    "\n",
    "def main(input_filename=\"gh_output_graphs.jsonl\"):\n",
    "    data_list = read_jsonl(input_filename)\n",
    "    for idx, data in enumerate(data_list):\n",
    "        draw_graph(data, f\"assets/gh_user_graph_{idx}.png\")\n",
    "\n",
    "\n",
    "if __name__ == \"__main__\":\n",
    "    main()"
   ]
  }
 ],
 "metadata": {
  "kernelspec": {
   "display_name": "Python 3",
   "language": "python",
   "name": "python3"
  },
  "language_info": {
   "codemirror_mode": {
    "name": "ipython",
    "version": 2
   },
   "file_extension": ".py",
   "mimetype": "text/x-python",
   "name": "python",
   "nbconvert_exporter": "python",
   "pygments_lexer": "ipython2",
   "version": "2.7.6"
  }
 },
 "nbformat": 4,
 "nbformat_minor": 5
}
