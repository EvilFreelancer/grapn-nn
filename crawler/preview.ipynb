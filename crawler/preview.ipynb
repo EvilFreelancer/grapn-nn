{
 "cells": [
  {
   "cell_type": "code",
   "execution_count": 14,
   "id": "initial_id",
   "metadata": {
    "collapsed": true,
    "ExecuteTime": {
     "end_time": "2023-08-16T17:47:44.774035323Z",
     "start_time": "2023-08-16T17:47:42.207999191Z"
    }
   },
   "outputs": [],
   "source": [
    "import json\n",
    "import networkx as nx\n",
    "import matplotlib.pyplot as plt\n",
    "\n",
    "\n",
    "def read_jsonl(filename):\n",
    "    \"\"\"Read data from a jsonl file.\"\"\"\n",
    "    data = []\n",
    "    with open(filename, 'r') as f:\n",
    "        for line in f:\n",
    "            data.append(json.loads(line))\n",
    "    return data\n",
    "\n",
    "\n",
    "def draw_graph(data, output_filename):\n",
    "    \"\"\"Draw a graph from data and save to an image file.\"\"\"\n",
    "    G = nx.Graph()\n",
    "\n",
    "    # Add nodes to the graph\n",
    "    for node in data[\"nodes\"]:\n",
    "        G.add_node(node[\"id\"])\n",
    "\n",
    "    # Add edges to the graph with weights\n",
    "    for link in data[\"links\"]:\n",
    "        G.add_edge(link[\"source\"], link[\"target\"], weight=link[\"weight\"])\n",
    "\n",
    "    # Draw the graph\n",
    "    pos = nx.spring_layout(G)  # Shell layout for better spacing\n",
    "    plt.figure(figsize=(10, 10))  # Increase figure size\n",
    "\n",
    "    nx.draw_networkx_nodes(G, pos, node_size=500)\n",
    "    nx.draw_networkx_labels(G, pos, font_size=10)\n",
    "\n",
    "    # Draw edges with labels indicating their weights\n",
    "    edge_widths = [d[\"weight\"] / 10 for _, _, d in G.edges(data=True)]\n",
    "    edge_labels = {(u, v): round(d[\"weight\"], 1) for u, v, d in G.edges(data=True)}\n",
    "    nx.draw_networkx_edges(G, pos, width=edge_widths, alpha=0.6)\n",
    "    nx.draw_networkx_edge_labels(G, pos, edge_labels=edge_labels, font_size=6)\n",
    "\n",
    "    plt.axis(\"off\")\n",
    "    plt.tight_layout()\n",
    "    plt.savefig(output_filename, format=\"PNG\", dpi=300)\n",
    "    plt.close()\n",
    "\n",
    "def main(input_filename=\"output_graphs.jsonl\"):\n",
    "    data_list = read_jsonl(input_filename)\n",
    "    for idx, data in enumerate(data_list):\n",
    "        draw_graph(data, f\"assets/user_graph_{idx}.png\")\n",
    "\n",
    "\n",
    "if __name__ == \"__main__\":\n",
    "    main()"
   ]
  }
 ],
 "metadata": {
  "kernelspec": {
   "display_name": "Python 3",
   "language": "python",
   "name": "python3"
  },
  "language_info": {
   "codemirror_mode": {
    "name": "ipython",
    "version": 2
   },
   "file_extension": ".py",
   "mimetype": "text/x-python",
   "name": "python",
   "nbconvert_exporter": "python",
   "pygments_lexer": "ipython2",
   "version": "2.7.6"
  }
 },
 "nbformat": 4,
 "nbformat_minor": 5
}
